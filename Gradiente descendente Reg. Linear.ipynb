{
 "cells": [
  {
   "cell_type": "markdown",
   "metadata": {
    "deletable": true,
    "editable": true
   },
   "source": [
    "## Gradiente descendente para regressão linear (y = a + bx)\n",
    "\n",
    "- Implemente o algoritmo de gradiente descendente para regressão linear\n",
    "- Teste vários valores de taxa de aprendizado e número de épocas de treinamento\n",
    "- Varie o nível de ruído\n",
    "- Plote o gráfico de dispersão mais reta da regressão\n",
    "- Plote o EQM em função do número de épocas\n",
    "- Critério de parada baseado no EQM"
   ]
  },
  {
   "cell_type": "code",
   "execution_count": 1,
   "metadata": {
    "collapsed": false,
    "deletable": true,
    "editable": true,
    "scrolled": false
   },
   "outputs": [
    {
     "data": {
      "image/png": "[encoded data removed]",
      "text/plain": [
       "<matplotlib.figure.Figure at 0x203320d5f8>"
      ]
     },
     "metadata": {},
     "output_type": "display_data"
    },
    {
     "name": "stdout",
     "output_type": "stream",
     "text": [
      "Beta0: 5.01452179028\n",
      "Beta1: 2.00887446145\n"
     ]
    },
    {
     "data": {
      "image/png": "[encoded data removed]",
      "text/plain": [
       "<matplotlib.figure.Figure at 0x203db0ec88>"
      ]
     },
     "metadata": {},
     "output_type": "display_data"
    }
   ],
   "source": [
    "#Importação de bibliotecas\n",
    "import numpy\n",
    "import matplotlib.pyplot as plt\n",
    "\n",
    "#Gerando dados de teste\n",
    "numpy.random.seed(0)\n",
    "ruido = 0.1\n",
    "n = 100 #número de linha/dados\n",
    "x = numpy.random.uniform(size=n)\n",
    "y = 2*x + 5 + ruido*numpy.random.normal(size=n)\n",
    "\n",
    "beta0 = 0\n",
    "beta1 = 0\n",
    "predito  = beta0 + beta1*x\n",
    "eqm = sum((predito - y)**2) / n\n",
    "\n",
    "\n",
    "#Treinamento/Gradiente descendente\n",
    "txAprendizado = 0.1\n",
    "epocas = 500\n",
    "\n",
    "ordem = []\n",
    "eqmAcumulado = []\n",
    "\n",
    "for i in range(epocas):\n",
    "    gradB0 = sum(predito - y)/n\n",
    "    beta0 = beta0 - (txAprendizado * gradB0)\n",
    "    \n",
    "    gradB1 = sum((predito - y)*x)/n\n",
    "    beta1 = beta1 - (txAprendizado*gradB1)\n",
    "    \n",
    "    predito = beta0 + beta1*x\n",
    "    ordem.append(i)\n",
    "    eqm = sum((predito - y)**2) / n\n",
    "    eqmAcumulado.append(eqm)\n",
    "\n",
    "plt.scatter(x, y)\n",
    "plt.plot(x, predito, color=\"black\")\n",
    "plt.show()\n",
    "print(\"Beta0: \" + str(beta0))    \n",
    "print(\"Beta1: \" + str(beta1))\n",
    "\n",
    "plt.plot(ordem, eqmAcumulado)\n",
    "plt.show()\n",
    "\n"
   ]
  },
  {
   "cell_type": "markdown",
   "metadata": {
    "deletable": true,
    "editable": true
   },
   "source": [
    "![alt text](http://geradormemes.com/media/created/jtjs8r.jpg)"
   ]
  }
 ],
 "metadata": {
  "kernelspec": {
   "display_name": "Python 3",
   "language": "python",
   "name": "python3"
  },
  "language_info": {
   "codemirror_mode": {
    "name": "ipython",
    "version": 3
   },
   "file_extension": ".py",
   "mimetype": "text/x-python",
   "name": "python",
   "nbconvert_exporter": "python",
   "pygments_lexer": "ipython3",
   "version": "3.5.2"
  }
 },
 "nbformat": 4,
 "nbformat_minor": 2
}
