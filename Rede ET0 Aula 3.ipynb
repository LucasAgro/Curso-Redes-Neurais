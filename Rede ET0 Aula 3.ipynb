{
 "cells": [
  {
   "cell_type": "markdown",
   "metadata": {},
   "source": [
    "# Modelagem de ETo para Lavras utilizando Perceptron Multicamadas (PMC)"
   ]
  },
  {
   "cell_type": "code",
   "execution_count": 1,
   "metadata": {
    "collapsed": false
   },
   "outputs": [
    {
     "name": "stderr",
     "output_type": "stream",
     "text": [
      "Using TensorFlow backend.\n"
     ]
    }
   ],
   "source": [
    "#Impotando bibliotecas\n",
    "import numpy as np\n",
    "import pandas as pd\n",
    "from keras.models import Sequential\n",
    "from keras.layers import Dense\n",
    "from keras import optimizers\n",
    "import matplotlib.pyplot as plt\n"
   ]
  },
  {
   "cell_type": "code",
   "execution_count": 2,
   "metadata": {
    "collapsed": true
   },
   "outputs": [],
   "source": [
    "#Função Obter Dados\n",
    "def obterDados(arquivo, linhaInicial, numeroDeLinhas):\n",
    "    dados = pd.read_csv(arquivo, sep=\";\", header=0, skiprows=linhaInicial, nrows=numeroDeLinhas)\n",
    "    dados = dados.values\n",
    "    tMax = dados[:, 1]\n",
    "    tMin = dados[:, 2]\n",
    "    ur = dados[:, 3]\n",
    "    insolacao = dados[:, 4]\n",
    "    vento = dados[:, 5]\n",
    "    ra = dados[:, 6]\n",
    "    \n",
    "    y = dados[:, 7]\n",
    "    hs = dados[:, 8]\n",
    "    \n",
    "    tMaxLimpo =[]\n",
    "    tMinLimpo=[]\n",
    "    urLimpo=[]\n",
    "    insolacaoLimpo=[]\n",
    "    ventoLimpo=[]\n",
    "    raLimpo=[]\n",
    "    yLimpo=[]\n",
    "    hsLimpo =[]\n",
    "    \n",
    "\n",
    "    for i in range(len(y)):\n",
    "        if(not(tMax[i] > 38 or tMin[i] > 30 or ur[i] > 100)):\n",
    "            tMaxLimpo.append(tMax[i])\n",
    "            tMinLimpo.append(tMin[i])\n",
    "            urLimpo.append(ur[i])\n",
    "            insolacaoLimpo.append(insolacao[i])\n",
    "            ventoLimpo.append(vento[i])\n",
    "            raLimpo.append(ra[i])\n",
    "            yLimpo.append(y[i])\n",
    "            hsLimpo.append(hs[i])\n",
    "        else:\n",
    "            print(\"Outlier - linha \" + str(i))\n",
    "    \n",
    "    inputs = []\n",
    "    inputs.append(np.array(tMaxLimpo) / 40.0)\n",
    "    inputs.append(np.array(tMinLimpo) / 30.0)\n",
    "    inputs.append(np.array(urLimpo) / 100.0)\n",
    "    inputs.append(np.array(insolacaoLimpo) / 16.0)\n",
    "    inputs.append(np.array(ventoLimpo) / 10.0)\n",
    "    inputs.append(np.array(raLimpo) / 50.0)\n",
    "    \n",
    "    inputs = np.array(inputs)\n",
    "    inputs = inputs.transpose()\n",
    "    \n",
    "    yLimpo = np.array(yLimpo) / 10.0\n",
    "    yLimpo = yLimpo.transpose()\n",
    "    \n",
    "    hsLimpo = np.array(hsLimpo) / 10.0\n",
    "    hsLimpo = hsLimpo.transpose()\n",
    "    \n",
    "    return inputs, yLimpo, hsLimpo\n",
    "    "
   ]
  },
  {
   "cell_type": "code",
   "execution_count": 3,
   "metadata": {
    "collapsed": false
   },
   "outputs": [],
   "source": [
    "#Obtendo dados de treinamento e teste\n",
    "arquivo = \"dados_lavras.csv\"\n",
    "inputs_treino, y_treino, hs_treino = obterDados(arquivo, 0, 365)\n",
    "inputs_teste, y_teste, hs_teste = obterDados(arquivo, 366, 365)\n",
    "\n"
   ]
  }
 ],
 "metadata": {
  "kernelspec": {
   "display_name": "Python 3",
   "language": "python",
   "name": "python3"
  },
  "language_info": {
   "codemirror_mode": {
    "name": "ipython",
    "version": 3
   },
   "file_extension": ".py",
   "mimetype": "text/x-python",
   "name": "python",
   "nbconvert_exporter": "python",
   "pygments_lexer": "ipython3",
   "version": "3.5.2"
  }
 },
 "nbformat": 4,
 "nbformat_minor": 2
}
